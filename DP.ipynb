{
 "cells": [
  {
   "cell_type": "code",
   "execution_count": 1,
   "id": "7385ea7f",
   "metadata": {},
   "outputs": [],
   "source": [
    "import random\n",
    "import numpy as np\n",
    "import matplotlib.pyplot as plt\n",
    "from collections import Counter\n",
    "\n",
    "random.seed(98)"
   ]
  },
  {
   "cell_type": "code",
   "execution_count": 2,
   "id": "001f44dd",
   "metadata": {},
   "outputs": [],
   "source": [
    "dices = {\n",
    "    'red': [2,2,2,2,6,6],\n",
    "    'blue': [3] * 6,\n",
    "    'black': [0,0,4,4,4,4],\n",
    "    'green': [1,1,1,5,5,5]   \n",
    "}\n",
    "\n",
    "# we create a dictionary for the ladders and chutes.  The key is the start state of the chute/ladder\n",
    "# and the value is the ending state.\n",
    "ladders = {1:38,4:14,9:31,21:42,28:84,36:44,51:67,71:91,80:100}\n",
    "chutes = {16:6,48:26,49:11,56:53,62:19,64:60,87:24,93:73,95:75,98:78}"
   ]
  },
  {
   "cell_type": "code",
   "execution_count": 3,
   "id": "215b1929",
   "metadata": {},
   "outputs": [],
   "source": [
    "def nextState (state, roll):\n",
    "    '''\n",
    "    This function transitions from the current state and current dice roll to the next state.\n",
    "    INPUTS:\n",
    "        state is the current state you are in (0 to 100)\n",
    "        roll is the number showing on the dice (1 to 6)\n",
    "    RETURN VALUE:\n",
    "    this function returns the next state integer\n",
    "    '''\n",
    "    next_state = state + roll\n",
    "    if next_state > 100:\n",
    "        next_state = 100\n",
    "    # now check for ladders\n",
    "    if next_state in ladders:\n",
    "        next_state = ladders[next_state]\n",
    "    # now check for chutes\n",
    "    if next_state in chutes:\n",
    "        next_state = chutes[next_state]\n",
    "        \n",
    "    return next_state"
   ]
  },
  {
   "cell_type": "code",
   "execution_count": 4,
   "id": "03b434af",
   "metadata": {},
   "outputs": [],
   "source": [
    "def create_state_mat(policy):\n",
    "    \"\"\"\n",
    "    Build the state matrix when following a specific policy\n",
    "    \"\"\"\n",
    "    state_mat = [[0.0] * 101 for _ in range(101)]\n",
    "    state_mat[100][100] = 1.0\n",
    "    \n",
    "    for state in range(100):\n",
    "        dice = policy[state]\n",
    "        rolls_cnt = len(dices[dice])\n",
    "        rolls_freq = Counter(dices[dice])\n",
    "\n",
    "        for roll, freq in rolls_freq.items():\n",
    "            next_state = nextState(state, roll)\n",
    "            state_mat[state][next_state] += -(float(freq) / float(rolls_cnt))\n",
    "    \n",
    "    for state in range(100):\n",
    "        state_mat[state][state] += 1.0\n",
    "    \n",
    "    return state_mat\n",
    "\n",
    "def evaluate_policy(policy):\n",
    "    \"\"\"\n",
    "    Evaluate a specific policy.\n",
    "    Return the expected number of steps when starting from state 0 following this policy.\n",
    "    \"\"\"\n",
    "    state_mat = create_state_mat(policy)\n",
    "    \n",
    "    # Singular matrix\n",
    "    if np.linalg.det(state_mat) == 0:\n",
    "        return float('inf')\n",
    "    \n",
    "    # Ax = b\n",
    "    _b = [1.0] * 101\n",
    "    _b[100] = 0.0\n",
    "    \n",
    "    A = np.array(state_mat)\n",
    "    b = np.array(_b)\n",
    "    x = np.linalg.solve(A, b)\n",
    "    \n",
    "    # Expected number of steps when starting from state 0\n",
    "    return x[0]\n",
    "\n",
    "def improve_policy(policy, best_steps):    \n",
    "    \"\"\"\n",
    "    Improve the policy in-place.\n",
    "    Return the best expected number of steps.\n",
    "    \"\"\"\n",
    "    for state in range(99, -1, -1):\n",
    "        for dice, _ in dices.items():\n",
    "            old_dice = policy[state]\n",
    "            policy[state] = dice\n",
    "            exp_steps = evaluate_policy(policy)\n",
    "            \n",
    "            # Our current policy is better, so no need to update\n",
    "            if best_steps <= exp_steps:\n",
    "                policy[state] = old_dice\n",
    "            else:\n",
    "                best_steps = exp_steps\n",
    "                \n",
    "    return best_steps"
   ]
  },
  {
   "cell_type": "code",
   "execution_count": 5,
   "id": "221b622a",
   "metadata": {},
   "outputs": [],
   "source": [
    "def find_policy(policy):\n",
    "    \"\"\"\n",
    "    Search for the best policy starting from an initial policy.\n",
    "    Return:\n",
    "        - best policy.\n",
    "        - best expected steps from the initial policy.\n",
    "        - number of iterations until convergence\n",
    "    \"\"\"\n",
    "    best_steps = evaluate_policy(policy)\n",
    "    iterations = 0\n",
    "    \n",
    "    while True:\n",
    "        iterations += 1\n",
    "        new_steps = improve_policy(policy, best_steps)\n",
    "        if new_steps != float('inf') and np.isclose(best_steps, new_steps):\n",
    "            break\n",
    "        best_steps = new_steps\n",
    "\n",
    "    return policy, best_steps, iterations\n",
    "\n",
    "def print_policy(policy, best_steps, iterations):\n",
    "    print(f'1. Best expected number of steps = {best_steps}')\n",
    "#     print()\n",
    "    print(f'2. Policy = {policy}')\n",
    "#     print()\n",
    "    print(f'3. Number of iterations until convergence = {iterations}')"
   ]
  },
  {
   "cell_type": "code",
   "execution_count": 6,
   "id": "455f0a11",
   "metadata": {},
   "outputs": [
    {
     "name": "stdout",
     "output_type": "stream",
     "text": [
      "Best policy starting from a policy with all red\n",
      "\n",
      "1. Best expected number of steps = 11.617283950617276\n",
      "2. Policy = ['black', 'red', 'red', 'red', 'red', 'red', 'red', 'red', 'red', 'red', 'black', 'red', 'red', 'red', 'black', 'red', 'red', 'red', 'black', 'red', 'black', 'red', 'red', 'red', 'black', 'red', 'red', 'red', 'red', 'red', 'red', 'red', 'black', 'red', 'red', 'red', 'red', 'red', 'red', 'red', 'red', 'red', 'red', 'red', 'red', 'red', 'black', 'red', 'red', 'red', 'green', 'red', 'red', 'red', 'blue', 'red', 'red', 'red', 'green', 'red', 'blue', 'red', 'red', 'red', 'red', 'red', 'red', 'red', 'red', 'red', 'red', 'red', 'blue', 'blue', 'red', 'green', 'black', 'blue', 'red', 'green', 'red', 'green', 'red', 'red', 'red', 'blue', 'red', 'red', 'red', 'green', 'red', 'blue', 'blue', 'red', 'red', 'red', 'black', 'blue', 'red', 'red', 'red']\n",
      "3. Number of iterations until convergence = 3\n",
      "\n",
      "Best policy starting from a policy with all blue\n",
      "\n",
      "1. Best expected number of steps = 12.41666666666666\n",
      "2. Policy = ['blue', 'blue', 'blue', 'blue', 'blue', 'blue', 'blue', 'blue', 'blue', 'blue', 'blue', 'blue', 'blue', 'blue', 'blue', 'blue', 'blue', 'blue', 'blue', 'blue', 'blue', 'blue', 'blue', 'blue', 'blue', 'green', 'blue', 'blue', 'blue', 'blue', 'blue', 'blue', 'blue', 'green', 'red', 'blue', 'blue', 'blue', 'blue', 'blue', 'blue', 'blue', 'blue', 'blue', 'blue', 'blue', 'green', 'black', 'blue', 'blue', 'green', 'blue', 'blue', 'black', 'blue', 'blue', 'blue', 'blue', 'blue', 'blue', 'blue', 'blue', 'blue', 'blue', 'blue', 'blue', 'blue', 'blue', 'blue', 'blue', 'blue', 'blue', 'blue', 'blue', 'blue', 'red', 'black', 'blue', 'blue', 'blue', 'blue', 'blue', 'blue', 'blue', 'blue', 'blue', 'blue', 'blue', 'blue', 'blue', 'blue', 'blue', 'blue', 'blue', 'blue', 'red', 'blue', 'blue', 'blue', 'blue', 'blue']\n",
      "3. Number of iterations until convergence = 3\n",
      "\n",
      "Best policy starting from a policy with all black\n",
      "\n",
      "1. Best expected number of steps = 12.499999999999991\n",
      "2. Policy = ['black', 'black', 'black', 'black', 'black', 'black', 'black', 'black', 'black', 'black', 'black', 'black', 'black', 'black', 'black', 'black', 'black', 'black', 'black', 'black', 'black', 'black', 'red', 'black', 'black', 'black', 'red', 'black', 'black', 'black', 'black', 'black', 'black', 'black', 'black', 'black', 'black', 'black', 'black', 'black', 'black', 'black', 'black', 'black', 'black', 'black', 'green', 'black', 'black', 'black', 'green', 'black', 'black', 'black', 'black', 'black', 'black', 'black', 'green', 'black', 'red', 'black', 'black', 'black', 'black', 'black', 'black', 'black', 'black', 'black', 'black', 'black', 'black', 'black', 'black', 'black', 'black', 'black', 'black', 'black', 'black', 'black', 'black', 'black', 'black', 'black', 'black', 'black', 'black', 'black', 'black', 'black', 'black', 'black', 'black', 'black', 'black', 'black', 'black', 'black', 'black']\n",
      "3. Number of iterations until convergence = 2\n",
      "\n",
      "Best policy starting from a policy with all green\n",
      "\n",
      "1. Best expected number of steps = 10.208333333333332\n",
      "2. Policy = ['green', 'green', 'green', 'green', 'green', 'black', 'blue', 'red', 'green', 'green', 'blue', 'red', 'red', 'red', 'green', 'red', 'green', 'red', 'blue', 'red', 'green', 'green', 'red', 'green', 'black', 'blue', 'red', 'green', 'green', 'blue', 'red', 'green', 'black', 'blue', 'red', 'green', 'green', 'red', 'red', 'red', 'red', 'red', 'blue', 'blue', 'blue', 'red', 'green', 'black', 'green', 'green', 'green', 'green', 'red', 'red', 'blue', 'red', 'green', 'red', 'green', 'red', 'blue', 'red', 'green', 'red', 'green', 'red', 'red', 'red', 'red', 'red', 'red', 'green', 'green', 'blue', 'red', 'green', 'black', 'blue', 'red', 'green', 'green', 'green', 'red', 'red', 'red', 'blue', 'red', 'green', 'red', 'green', 'red', 'blue', 'black', 'green', 'red', 'green', 'green', 'blue', 'green', 'green', 'green']\n",
      "3. Number of iterations until convergence = 2\n",
      "\n"
     ]
    }
   ],
   "source": [
    "for dice, _ in dices.items():\n",
    "    policy, best_steps, iterations = find_policy([dice] * 101)\n",
    "    print(f'Best policy starting from a policy with all {dice}')\n",
    "    print()\n",
    "    print_policy(policy, best_steps, iterations)\n",
    "    print()"
   ]
  },
  {
   "cell_type": "code",
   "execution_count": 7,
   "id": "09af896c",
   "metadata": {},
   "outputs": [],
   "source": [
    "opt_policy, best_steps, iterations = find_policy(['green'] * 101)"
   ]
  },
  {
   "cell_type": "code",
   "execution_count": 12,
   "id": "4c7d7e07",
   "metadata": {},
   "outputs": [],
   "source": [
    "def roll(dice_color):\n",
    "    '''\n",
    "    This function randomly rolls one of the four effron dice.  \n",
    "    INPUT:\n",
    "    dice_color should be among \"red\",\"blue\",\"black\", or \"green\"\n",
    "    OUTPUT:\n",
    "    an integer randomly selected from one of the dice\n",
    "    '''\n",
    "    \n",
    "    if dice_color == 'red':\n",
    "        return random.choice([2,2,2,2,6,6])\n",
    "    if dice_color == 'blue':\n",
    "        return 3\n",
    "    if dice_color == 'black':\n",
    "        return random.choice([0,0,4,4,4,4])\n",
    "    if dice_color == 'green':\n",
    "        return random.choice([1,1,1,5,5,5])\n",
    "    # for invalid input\n",
    "    return None\n",
    "\n",
    "def simulate(policy):\n",
    "    state = 0\n",
    "    steps = 0\n",
    "    \n",
    "    while state != 100 and steps < 100:\n",
    "        dice = policy[state]\n",
    "        roll_res = roll(dice)\n",
    "        state = nextState(state, roll_res)\n",
    "        steps += 1\n",
    "    \n",
    "    return steps"
   ]
  },
  {
   "cell_type": "code",
   "execution_count": 13,
   "id": "d1730380",
   "metadata": {},
   "outputs": [
    {
     "name": "stdout",
     "output_type": "stream",
     "text": [
      "11\n"
     ]
    }
   ],
   "source": [
    "print(simulate(opt_policy))"
   ]
  },
  {
   "cell_type": "code",
   "execution_count": 14,
   "id": "bbd3b705",
   "metadata": {},
   "outputs": [],
   "source": [
    "def assess(policy, trials):\n",
    "    '''\n",
    "    Assess the value of the current policy by completing #trials using the specified policy.\n",
    "    '''\n",
    "    steps = []\n",
    "    for _ in range(trials):\n",
    "        steps.append(simulate(policy))\n",
    "    return steps"
   ]
  },
  {
   "cell_type": "code",
   "execution_count": 15,
   "id": "7ebf7ab6",
   "metadata": {},
   "outputs": [
    {
     "data": {
      "image/png": "[encoded data removed]",
      "text/plain": [
       "<Figure size 640x480 with 1 Axes>"
      ]
     },
     "metadata": {},
     "output_type": "display_data"
    }
   ],
   "source": [
    "trials_res = assess(opt_policy, 10000)\n",
    "plt.hist(trials_res)\n",
    "plt.title('Distribution of steps')\n",
    "plt.show()"
   ]
  },
  {
   "cell_type": "code",
   "execution_count": null,
   "id": "c45f4dc4",
   "metadata": {},
   "outputs": [],
   "source": []
  }
 ],
 "metadata": {
  "kernelspec": {
   "display_name": "Python 3 (ipykernel)",
   "language": "python",
   "name": "python3"
  },
  "language_info": {
   "codemirror_mode": {
    "name": "ipython",
    "version": 3
   },
   "file_extension": ".py",
   "mimetype": "text/x-python",
   "name": "python",
   "nbconvert_exporter": "python",
   "pygments_lexer": "ipython3",
   "version": "3.8.10"
  }
 },
 "nbformat": 4,
 "nbformat_minor": 5
}
