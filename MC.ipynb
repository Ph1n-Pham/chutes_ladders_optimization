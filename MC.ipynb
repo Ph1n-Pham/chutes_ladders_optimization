{
  "nbformat": 4,
  "nbformat_minor": 0,
  "metadata": {
    "colab": {
      "provenance": []
    },
    "kernelspec": {
      "name": "python3",
      "display_name": "Python 3"
    },
    "language_info": {
      "name": "python"
    }
  },
  "cells": [
    {
      "cell_type": "markdown",
      "source": [
        "#Monte Carlo algorithm in Reinforcement Learning AI "
      ],
      "metadata": {
        "id": "8THaEUNo4Sgx"
      }
    },
    {
      "cell_type": "markdown",
      "source": [
        "In this paper, we experiment Reinforcement learning for an AI model to play the Chutes and Ladders Game using Monte Carlo algorithm. We record the performace of the model playing the game for 1000 times, graph the learning process, and calculate the variation of its performance. After that we will compare the performance of Monte Carlo model with other algorithms to pick the best algorithm for Chutes and Ladders. <p>"
      ],
      "metadata": {
        "id": "BOdQX7jq4UEP"
      }
    },
    {
      "cell_type": "code",
      "execution_count": null,
      "metadata": {
        "id": "G-7eH8ESzWZ5"
      },
      "outputs": [],
      "source": [
        "import random\n",
        "import numpy as np\n",
        "import matplotlib.pyplot as plt"
      ]
    },
    {
      "cell_type": "code",
      "source": [
        "def nextState(state, roll):\n",
        "    '''\n",
        "    This function transitions from the current state and current dice roll to the next state.\n",
        "    INPUTS:\n",
        "        state is the current state you are in (0 to 100)\n",
        "        roll is the number showing on the dice (1 to 6)\n",
        "    RETURN VALUE:\n",
        "    this function returns the next state integer\n",
        "    '''\n",
        "    # we create a dictionary for the ladders and chutes.  The key is the start state of the chute/ladder\n",
        "    # and the value is the ending state.  \n",
        "    ladders = {1:38,4:14,9:31,21:42,28:84,36:44,51:67,71:91,80:100}\n",
        "    chutes = {16:6,48:26,49:11,56:53,62:19,64:60,87:24,93:73,95:75,98:78}\n",
        "    \n",
        "    next_state = state + roll\n",
        "    if next_state > 100:\n",
        "        next_state = 100\n",
        "    # now check for ladders\n",
        "    if next_state in ladders:\n",
        "        next_state = ladders[next_state]\n",
        "    # now check for chutes\n",
        "    if next_state in chutes:\n",
        "        next_state = chutes[next_state]        \n",
        "    return next_state\n",
        "    \n",
        "def roll(dice_color):\n",
        "    '''\n",
        "    This function randomly rolls one of the four effron dice.  \n",
        "    INPUT:\n",
        "    dice_color should be among \"red\",\"blue\",\"black\", or \"green\"\n",
        "    OUTPUT:\n",
        "    an integer randomly selected from one of the dice\n",
        "    '''\n",
        "    \n",
        "    if dice_color == 0:                         # red dice \n",
        "        return random.choice([2,2,2,2,6,6])\n",
        "    if dice_color == 1:                         # blue dice \n",
        "        return 3\n",
        "    if dice_color == 2:                         # black dice \n",
        "        return random.choice([0,0,4,4,4,4])\n",
        "    if dice_color == 3:                         # green dice \n",
        "        return random.choice([1,1,1,5,5,5])\n",
        "    # for invalid input\n",
        "    return None"
      ],
      "metadata": {
        "id": "MotOLtC01yOg"
      },
      "execution_count": null,
      "outputs": []
    },
    {
      "cell_type": "code",
      "source": [
        "def e_greedy(s, policy, epsilon):\n",
        "    '''\n",
        "    Implements an e-greedy policy.\n",
        "    With probability epsilon, it returns random action choice\n",
        "    otherwise returns action choice specified by the policy\n",
        "\n",
        "    s = current state\n",
        "    policy = policy function (an array that is indexed by state)\n",
        "    epsilon (0 to 1) a probability of picking exploratory random action\n",
        "    '''\n",
        "    r = np.random.random()\n",
        "    if r > epsilon:\n",
        "        return policy[s]\n",
        "    else:\n",
        "        return random.randint(0,3)\n",
        "\n",
        "#-------------------------------------------------------------\n",
        "#keep total_reward\n",
        "def make_trajectory(policy,epsilon):\n",
        "  '''\n",
        "  Simulate one trajectory of experience\n",
        "  Return list of tuples during trajectory\n",
        "  Each tuple is (s,a,r) -> state / action / reward\n",
        "  epsilon = probability of exploratory action\n",
        "  '''\n",
        "  traj = []\n",
        "  s=0   #  turn 0, pot 0\n",
        "  total_reward = 0\n",
        "\n",
        "  while (s < 100):\n",
        "    a = e_greedy(s,policy,epsilon)\n",
        "    s_prev = s\n",
        "    action_dice = roll(a)\n",
        "    s = nextState(s,action_dice)\n",
        "    total_reward+=1\n",
        "    traj.append((s_prev,a,1))\n",
        "  # final reward = state value, final action = 0 (meaningless)\n",
        "  traj.append((s,0,1))\n",
        "  return traj,total_reward\n"
      ],
      "metadata": {
        "id": "r1BrshHz12q-"
      },
      "execution_count": null,
      "outputs": []
    },
    {
      "cell_type": "code",
      "source": [
        "P = np.random.choice(4, 101)\n",
        "epsilon = 0.1\n",
        "k = 10\n",
        "print(P)\n",
        "for i in range(k):\n",
        "  t,r = make_trajectory(P,epsilon)\n",
        "  if k <= 10:\n",
        "    print(t,r)"
      ],
      "metadata": {
        "id": "tOcfo48g18DN",
        "colab": {
          "base_uri": "https://localhost:8080/"
        },
        "outputId": "f47ae38f-dd34-4ddf-c5d9-032aa1dd0282"
      },
      "execution_count": null,
      "outputs": [
        {
          "output_type": "stream",
          "name": "stdout",
          "text": [
            "[1 0 2 3 0 2 2 0 3 3 2 1 3 0 2 1 1 2 1 0 1 1 0 1 3 1 1 2 3 3 1 0 2 1 3 3 1\n",
            " 1 1 0 1 2 3 0 1 1 0 0 0 2 2 2 0 0 3 2 1 2 0 2 1 2 0 2 3 0 3 3 3 3 2 0 3 3\n",
            " 1 0 3 2 1 3 0 1 2 3 2 2 0 1 2 1 3 3 2 1 1 2 2 2 2 2 0]\n",
            "[(0, 1, 1), (3, 3, 1), (14, 2, 1), (14, 2, 1), (14, 2, 1), (18, 1, 1), (42, 3, 1), (43, 0, 1), (45, 1, 1), (26, 1, 1), (29, 3, 1), (34, 3, 1), (39, 0, 1), (45, 1, 1), (26, 1, 1), (29, 3, 1), (34, 3, 1), (35, 3, 1), (44, 1, 1), (47, 0, 1), (11, 1, 1), (14, 2, 1), (14, 2, 1), (18, 1, 1), (42, 3, 1), (43, 0, 1), (45, 1, 1), (26, 1, 1), (29, 3, 1), (30, 1, 1), (33, 1, 1), (44, 1, 1), (47, 0, 1), (53, 0, 1), (55, 2, 1), (59, 2, 1), (63, 1, 1), (66, 3, 1), (67, 3, 1), (72, 3, 1), (77, 2, 1), (81, 1, 1), (84, 2, 1), (88, 2, 1), (92, 0, 1), (94, 1, 1), (97, 2, 1), (97, 2, 1), (100, 0, 1)] 48\n",
            "[(0, 1, 1), (3, 3, 1), (8, 3, 1), (31, 0, 1), (33, 1, 1), (44, 1, 1), (47, 0, 1), (53, 3, 1), (58, 0, 1), (60, 1, 1), (63, 2, 1), (67, 3, 1), (72, 3, 1), (77, 2, 1), (81, 1, 1), (84, 2, 1), (84, 0, 1), (86, 0, 1), (88, 2, 1), (92, 2, 1), (92, 3, 1), (97, 2, 1), (100, 0, 1)] 22\n",
            "[(0, 1, 1), (3, 3, 1), (8, 2, 1), (8, 2, 1), (8, 3, 1), (13, 0, 1), (15, 1, 1), (18, 1, 1), (42, 3, 1), (43, 0, 1), (45, 1, 1), (26, 1, 1), (29, 3, 1), (34, 3, 1), (35, 3, 1), (44, 1, 1), (47, 0, 1), (11, 3, 1), (6, 2, 1), (6, 2, 1), (6, 2, 1), (10, 2, 1), (10, 2, 1), (10, 2, 1), (14, 2, 1), (18, 1, 1), (42, 3, 1), (43, 0, 1), (45, 1, 1), (26, 1, 1), (29, 3, 1), (34, 3, 1), (35, 3, 1), (44, 1, 1), (47, 0, 1), (11, 1, 1), (14, 2, 1), (18, 1, 1), (42, 3, 1), (47, 0, 1), (53, 0, 1), (59, 2, 1), (63, 2, 1), (67, 0, 1), (73, 3, 1), (74, 1, 1), (77, 2, 1), (81, 1, 1), (84, 3, 1), (89, 1, 1), (92, 2, 1), (96, 2, 1), (100, 0, 1)] 52\n",
            "[(0, 1, 1), (3, 3, 1), (14, 2, 1), (14, 2, 1), (18, 1, 1), (42, 3, 1), (43, 0, 1), (45, 1, 1), (26, 1, 1), (29, 1, 1), (32, 2, 1), (44, 1, 1), (47, 0, 1), (53, 3, 1), (58, 0, 1), (60, 1, 1), (63, 2, 1), (63, 2, 1), (63, 3, 1), (68, 1, 1), (91, 3, 1), (92, 2, 1), (96, 2, 1), (100, 0, 1)] 23\n",
            "[(0, 1, 1), (3, 3, 1), (14, 2, 1), (18, 1, 1), (42, 3, 1), (43, 0, 1), (45, 1, 1), (26, 1, 1), (29, 3, 1), (30, 1, 1), (33, 1, 1), (44, 1, 1), (47, 0, 1), (11, 1, 1), (14, 2, 1), (14, 2, 1), (18, 1, 1), (42, 3, 1), (43, 0, 1), (45, 1, 1), (26, 1, 1), (29, 3, 1), (30, 1, 1), (33, 1, 1), (44, 1, 1), (47, 0, 1), (11, 1, 1), (14, 2, 1), (18, 1, 1), (42, 3, 1), (47, 0, 1), (53, 0, 1), (59, 2, 1), (63, 2, 1), (67, 3, 1), (72, 3, 1), (73, 3, 1), (78, 1, 1), (81, 1, 1), (84, 2, 1), (88, 2, 1), (92, 2, 1), (92, 2, 1), (92, 2, 1), (96, 2, 1), (96, 2, 1), (100, 0, 1)] 46\n",
            "[(0, 1, 1), (3, 3, 1), (8, 3, 1), (31, 0, 1), (37, 1, 1), (40, 1, 1), (43, 0, 1), (11, 1, 1), (14, 2, 1), (18, 1, 1), (42, 3, 1), (47, 0, 1), (11, 1, 1), (14, 2, 1), (18, 1, 1), (42, 3, 1), (47, 0, 1), (11, 1, 1), (14, 1, 1), (17, 2, 1), (17, 2, 1), (42, 3, 1), (47, 0, 1), (11, 1, 1), (14, 2, 1), (18, 1, 1), (42, 3, 1), (47, 0, 1), (11, 1, 1), (14, 2, 1), (18, 1, 1), (42, 2, 1), (42, 3, 1), (43, 0, 1), (45, 1, 1), (26, 1, 1), (29, 3, 1), (34, 2, 1), (38, 1, 1), (41, 2, 1), (41, 2, 1), (41, 2, 1), (41, 2, 1), (41, 2, 1), (45, 1, 1), (26, 0, 1), (32, 2, 1), (32, 2, 1), (44, 1, 1), (47, 0, 1), (11, 1, 1), (14, 1, 1), (17, 1, 1), (20, 1, 1), (23, 1, 1), (26, 1, 1), (29, 3, 1), (34, 0, 1), (40, 1, 1), (43, 0, 1), (45, 1, 1), (26, 1, 1), (29, 3, 1), (34, 3, 1), (35, 3, 1), (40, 1, 1), (43, 0, 1), (45, 1, 1), (26, 1, 1), (29, 3, 1), (30, 1, 1), (33, 1, 1), (44, 1, 1), (47, 0, 1), (53, 1, 1), (53, 0, 1), (59, 2, 1), (59, 2, 1), (59, 2, 1), (63, 2, 1), (67, 0, 1), (73, 3, 1), (74, 1, 1), (77, 2, 1), (77, 2, 1), (81, 2, 1), (85, 2, 1), (85, 2, 1), (89, 1, 1), (92, 2, 1), (96, 2, 1), (96, 2, 1), (96, 2, 1), (100, 0, 1)] 93\n",
            "[(0, 2, 1), (14, 2, 1), (18, 1, 1), (42, 3, 1), (47, 0, 1), (11, 1, 1), (14, 2, 1), (18, 1, 1), (42, 3, 1), (47, 0, 1), (11, 1, 1), (14, 2, 1), (18, 1, 1), (42, 3, 1), (47, 0, 1), (53, 0, 1), (55, 2, 1), (59, 2, 1), (63, 2, 1), (67, 3, 1), (72, 3, 1), (77, 2, 1), (81, 1, 1), (84, 2, 1), (88, 2, 1), (92, 0, 1), (94, 1, 1), (97, 3, 1), (78, 1, 1), (81, 1, 1), (84, 2, 1), (88, 2, 1), (88, 2, 1), (92, 2, 1), (92, 2, 1), (96, 2, 1), (96, 2, 1), (100, 0, 1)] 37\n",
            "[(0, 1, 1), (3, 3, 1), (8, 3, 1), (31, 0, 1), (33, 1, 1), (44, 1, 1), (47, 0, 1), (11, 1, 1), (14, 2, 1), (18, 1, 1), (42, 1, 1), (45, 1, 1), (26, 1, 1), (29, 3, 1), (34, 3, 1), (39, 0, 1), (45, 1, 1), (26, 1, 1), (29, 3, 1), (30, 1, 1), (33, 1, 1), (44, 1, 1), (47, 0, 1), (53, 0, 1), (55, 2, 1), (59, 2, 1), (63, 2, 1), (67, 3, 1), (72, 0, 1), (74, 1, 1), (77, 2, 1), (77, 2, 1), (81, 1, 1), (84, 2, 1), (88, 2, 1), (92, 2, 1), (96, 2, 1), (100, 0, 1)] 37\n",
            "[(0, 0, 1), (6, 2, 1), (10, 2, 1), (14, 2, 1), (18, 3, 1), (23, 1, 1), (26, 1, 1), (29, 3, 1), (30, 1, 1), (33, 1, 1), (44, 1, 1), (47, 0, 1), (11, 1, 1), (14, 2, 1), (18, 1, 1), (42, 3, 1), (47, 0, 1), (11, 1, 1), (14, 2, 1), (18, 1, 1), (42, 3, 1), (43, 0, 1), (45, 1, 1), (26, 1, 1), (29, 3, 1), (30, 1, 1), (33, 1, 1), (44, 1, 1), (47, 0, 1), (11, 1, 1), (14, 2, 1), (14, 1, 1), (17, 2, 1), (42, 3, 1), (43, 0, 1), (45, 1, 1), (26, 1, 1), (29, 3, 1), (34, 3, 1), (35, 1, 1), (38, 0, 1), (40, 1, 1), (43, 0, 1), (11, 1, 1), (14, 2, 1), (18, 1, 1), (42, 3, 1), (47, 0, 1), (53, 0, 1), (55, 2, 1), (59, 2, 1), (63, 2, 1), (63, 1, 1), (66, 3, 1), (67, 3, 1), (68, 3, 1), (73, 3, 1), (78, 1, 1), (81, 1, 1), (84, 2, 1), (88, 3, 1), (89, 1, 1), (92, 2, 1), (96, 2, 1), (100, 0, 1)] 64\n",
            "[(0, 1, 1), (3, 3, 1), (8, 3, 1), (31, 0, 1), (37, 1, 1), (40, 1, 1), (43, 0, 1), (11, 1, 1), (14, 2, 1), (14, 2, 1), (14, 2, 1), (14, 2, 1), (18, 1, 1), (42, 3, 1), (47, 0, 1), (53, 0, 1), (55, 2, 1), (59, 2, 1), (63, 3, 1), (60, 1, 1), (63, 2, 1), (67, 3, 1), (68, 3, 1), (69, 3, 1), (70, 2, 1), (74, 1, 1), (77, 2, 1), (77, 2, 1), (81, 1, 1), (84, 2, 1), (88, 2, 1), (92, 2, 1), (92, 2, 1), (96, 2, 1), (100, 0, 1)] 34\n"
          ]
        }
      ]
    },
    {
      "cell_type": "markdown",
      "source": [
        "Learning"
      ],
      "metadata": {
        "id": "nHPzZSgPBpRj"
      }
    },
    {
      "cell_type": "code",
      "source": [
        "def init ():\n",
        "  '''\n",
        "  Create totals, counts and policy defaults\n",
        "  '''\n",
        "  totals = np.zeros((101,4))\n",
        "  counts = np.zeros((101,4)).astype(int)\n",
        "  P = np.zeros(101).astype(int)\n",
        "  return totals,counts,P\n",
        "\n",
        "def compute_Q(totals,counts):\n",
        "  '''\n",
        "  Compute the Q values based on totals and counts (average)\n",
        "  '''\n",
        "  Q = np.zeros((101,4))\n",
        "  for i in range(len(totals)):\n",
        "    for a in range(4):\n",
        "      if counts[i][a] > 0:\n",
        "        Q[i][a] = totals[i][a] / counts[i][a]\n",
        "      else:\n",
        "        Q[i][a] = 0\n",
        "  return Q\n",
        "\n",
        "def policy_improvement(Q):\n",
        "  #min element of each row in Q\n",
        "  V = np.min(Q,axis=1)\n",
        "  P = np.argmin(Q,axis=1)\n",
        "  return V,P\n",
        "\n",
        "#-------------------------------------------------------------\n",
        "def policy_evaluation(totals,counts,policy,n,epsilon):\n",
        "  '''\n",
        "  do n trajectories of learning\n",
        "  and update the v/count arrays\n",
        "  '''\n",
        "  opt_reward = 100000\n",
        "  #n = 100\n",
        "  for i in range(n):\n",
        "    t,r = make_trajectory(policy,epsilon)\n",
        "    m = len(t)\n",
        "    sum_r = np.zeros(m)\n",
        "    sum_r[m-1] = t[-1][2]\n",
        "    opt_reward = min(opt_reward,r)\n",
        "    for j in range(m-2,-1,-1):\n",
        "      sum_r[j] = sum_r[j+1] + t[j][2]\n",
        "\n",
        "    for j in range(m):\n",
        "      s,a,r = t[j]\n",
        "      counts[s,a] += 1\n",
        "      totals[s,a] += sum_r[j]\n",
        "    return opt_reward\n",
        "\n",
        "#avg steps from n times make_trajectory to test how the model learning so far\n",
        "def assess_policy(P, n):\n",
        "  total_r = 0\n",
        "  for i in range(n):\n",
        "    traj, r = make_trajectory(P, 0)\n",
        "    total_r += r\n",
        "  return total_r/n\n",
        "\n",
        "def policy_iteration(totals,counts,P,Q,n,m,epsilon):\n",
        "  '''\n",
        "  Perform n iterations of policy iteration \n",
        "  using m trials (episodes) per policy update\n",
        "  '''\n",
        "  train_count = []\n",
        "  epoch_r = []\n",
        "  opt = 100000\n",
        "  #number of time to test a current policy\n",
        "  trail = 100\n",
        "  for i in range(n):\n",
        "    Q = compute_Q(totals,counts)\n",
        "    V,P = policy_improvement(Q)\n",
        "    r = policy_evaluation(totals,counts,P,m,epsilon)\n",
        "    opt = min(r,opt)\n",
        "    if i%10 == 0:\n",
        "      epoch_r.append(assess_policy(P,100))\n",
        "      train_count.append(i//10)\n",
        "\n",
        "  Q = compute_Q(totals,counts)\n",
        "  V,P = policy_improvement(Q)\n",
        "  return opt,epoch_r,train_count\n",
        "\n",
        "#-------------------------------------------------------------\n",
        "def assess (policy,trials):\n",
        "  '''\n",
        "  Assess the value of the current policy by completing #trials\n",
        "  using the specified policy (no e-greedy random actions)\n",
        "  Does not accrue learning experience nor change policy\n",
        "  '''\n",
        "  totals,counts,P = init()\n",
        "  policy_evaluation(totals,counts,policy,trials,0)\n",
        "  Q = compute_Q(totals,counts)\n",
        "  print(Q)\n",
        "  V,P = policy_improvement(Q)\n",
        "  return V"
      ],
      "metadata": {
        "id": "_KsqLtojBnjo"
      },
      "execution_count": null,
      "outputs": []
    },
    {
      "cell_type": "code",
      "source": [
        "totals,counts,P = init()\n",
        "m = 100\n",
        "n = 1000\n",
        "epsilon = 0.1\n",
        "Q = compute_Q(totals,counts)\n",
        "V,P = policy_improvement(Q)\n",
        "reward,avg_epoch,train_count = policy_iteration(totals,counts,P,Q,n,m,epsilon)\n",
        "\n",
        "Q = compute_Q(totals,counts)\n",
        "V,P = policy_improvement(Q)\n",
        "# print('Q =\\n',Q)\n",
        "# print('V =\\n',V)\n",
        "# print('P =\\n',P)\n",
        "print('MIN STEPS: ',reward)\n",
        "\n",
        "plt.plot(train_count,avg_epoch)\n",
        "plt.title('Monte Carlo Performance')\n",
        "plt.xlabel('Epoch')\n",
        "plt.ylabel('Steps to 100')\n",
        "plt.show()"
      ],
      "metadata": {
        "id": "g8bQlxPIBy6_",
        "colab": {
          "base_uri": "https://localhost:8080/",
          "height": 490
        },
        "outputId": "8a3ebf17-d067-4ee4-ed9f-e52304ac97d3"
      },
      "execution_count": null,
      "outputs": [
        {
          "output_type": "stream",
          "name": "stdout",
          "text": [
            "MIN STEPS:  9\n"
          ]
        },
        {
          "output_type": "display_data",
          "data": {
            "text/plain": [
              "<Figure size 640x480 with 1 Axes>"
            ],
            "image/png": "[encoded data removed]"
          },
          "metadata": {}
        }
      ]
    },
    {
      "cell_type": "code",
      "source": [
        "print(make_trajectory(P,0))"
      ],
      "metadata": {
        "colab": {
          "base_uri": "https://localhost:8080/"
        },
        "id": "_0RVyC1kw6ng",
        "outputId": "3240ec46-3dfe-4ba1-9762-7fa92806243e"
      },
      "execution_count": null,
      "outputs": [
        {
          "output_type": "stream",
          "name": "stdout",
          "text": [
            "([(0, 0, 1), (2, 0, 1), (8, 2, 1), (12, 3, 1), (17, 3, 1), (18, 2, 1), (22, 1, 1), (25, 1, 1), (84, 0, 1), (86, 2, 1), (90, 2, 1), (90, 2, 1), (94, 1, 1), (97, 1, 1), (100, 0, 1)], 14)\n"
          ]
        }
      ]
    },
    {
      "cell_type": "code",
      "source": [
        "#Final number of steps variation \n",
        "print(avg_epoch[2::])\n",
        "print(np.std(avg_epoch[2::]))"
      ],
      "metadata": {
        "colab": {
          "base_uri": "https://localhost:8080/"
        },
        "id": "qhAfKyvA1a_3",
        "outputId": "0277fc9d-29c2-4550-e6ca-719fc3dbe0c3"
      },
      "execution_count": null,
      "outputs": [
        {
          "output_type": "stream",
          "name": "stdout",
          "text": [
            "[23.42, 20.15, 22.23, 22.12, 20.75, 21.46, 20.82, 21.26, 20.15, 20.46, 19.62, 19.82, 18.67, 19.53, 18.27, 19.35, 19.13, 18.99, 19.2, 20.52, 19.16, 19.25, 18.51, 20.03, 18.92, 19.67, 18.52, 20.12, 19.81, 19.67, 19.23, 16.79, 16.31, 16.85, 16.25, 16.19, 15.76, 17.11, 16.33, 15.65, 17.19, 16.52, 15.91, 15.99, 15.83, 16.34, 17.32, 16.35, 16.13, 17.34, 16.1, 16.45, 16.05, 16.82, 15.74, 16.4, 15.51, 16.61, 16.36, 16.89, 16.06, 15.68, 16.41, 16.25, 16.72, 16.79, 15.66, 15.58, 15.88, 15.68, 16.6, 15.6, 15.62, 16.03, 16.68, 15.25, 15.71, 15.59, 15.46, 14.81, 15.74, 15.21, 15.64, 15.12, 15.15, 15.91, 15.55, 15.55, 15.25, 15.72, 15.14, 15.62, 14.86, 15.07, 15.44, 15.31, 14.31, 15.22]\n",
            "2.045142702470756\n"
          ]
        }
      ]
    },
    {
      "cell_type": "markdown",
      "source": [
        "###Calculate avg steps of final policy P from training."
      ],
      "metadata": {
        "id": "2_YaFZp69akK"
      }
    },
    {
      "cell_type": "code",
      "source": [
        "sum = 0\n",
        "for i in range(1000):\n",
        "  sum += make_trajectory(P,0)[1]\n",
        "print(sum/1000)"
      ],
      "metadata": {
        "id": "8TpPALAe4Cqt",
        "colab": {
          "base_uri": "https://localhost:8080/"
        },
        "outputId": "a16b5775-b29e-4f89-959f-38655bad175f"
      },
      "execution_count": null,
      "outputs": [
        {
          "output_type": "stream",
          "name": "stdout",
          "text": [
            "11.367\n"
          ]
        }
      ]
    },
    {
      "cell_type": "code",
      "source": [],
      "metadata": {
        "id": "GRlAxj9OOKim"
      },
      "execution_count": null,
      "outputs": []
    }
  ]
}